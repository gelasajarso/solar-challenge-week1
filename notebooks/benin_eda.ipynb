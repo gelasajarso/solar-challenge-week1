{
 "cells": [
  {
   "cell_type": "markdown",
   "id": "5482a4ba",
   "metadata": {},
   "source": [
    "import pandas as pd\n",
    "import numpy as np\n",
    "import matplotlib.pyplot as plt\n",
    "import seaborn as sns\n",
    "from scipy import stats\n",
    "import warnings\n",
    "warnings.filterwarnings(\"ignore\")\n",
    "\n",
    "# Load dataset\n",
    "df = pd.read_csv('data/benin-malanville.csv')  # adjust path if needed\n",
    "df.head()\n"
   ]
  },
  {
   "cell_type": "markdown",
   "id": "5aa2ec89",
   "metadata": {},
   "source": [
    "# Summary statistics\n",
    "summary_stats = df.describe()\n",
    "\n",
    "# Missing values\n",
    "missing_values = df.isna().sum()\n",
    "missing_percent = (missing_values / len(df)) * 100\n",
    "missing_report = pd.DataFrame({\n",
    "    'Missing Count': missing_values,\n",
    "    'Missing %': missing_percent\n",
    "})\n",
    "high_missing = missing_report[missing_report['Missing %'] > 5]\n",
    "missing_report\n"
   ]
  },
  {
   "cell_type": "markdown",
   "id": "57dc884b",
   "metadata": {},
   "source": [
    "columns = ['GHI', 'DNI', 'DHI', 'ModA', 'ModB', 'WS', 'WSgust']\n",
    "\n",
    "# Z-score outlier detection\n",
    "z_scores = np.abs(stats.zscore(df[columns].dropna()))\n",
    "outliers = (z_scores > 3)\n",
    "df['Outlier'] = outliers.any(axis=1)\n",
    "\n",
    "# Count outliers\n",
    "print(f\"Outliers found: {df['Outlier'].sum()} rows\")\n",
    "\n",
    "# Impute missing values (median)\n",
    "df[columns] = df[columns].apply(lambda x: x.fillna(x.median()))\n"
   ]
  },
  {
   "cell_type": "markdown",
   "id": "4bd1d742",
   "metadata": {},
   "source": [
    "df.to_csv('data/benin_clean.csv', index=False)\n"
   ]
  },
  {
   "cell_type": "markdown",
   "id": "db691987",
   "metadata": {},
   "source": [
    "df['Timestamp'] = pd.to_datetime(df['Timestamp'])\n",
    "df.set_index('Timestamp')[['GHI', 'DNI', 'DHI', 'Tamb']].plot(subplots=True, figsize=(14, 10), title='Solar & Temperature Trends')\n",
    "plt.tight_layout()\n",
    "plt.show()\n"
   ]
  }
 ],
 "metadata": {
  "language_info": {
   "name": "python"
  }
 },
 "nbformat": 4,
 "nbformat_minor": 5
}
